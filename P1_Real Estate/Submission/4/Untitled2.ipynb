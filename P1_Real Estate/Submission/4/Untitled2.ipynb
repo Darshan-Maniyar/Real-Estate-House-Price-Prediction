{
 "cells": [
  {
   "cell_type": "markdown",
   "metadata": {},
   "source": [
    "# <font color=blue>                          Real Estate House Price Prediction</font> "
   ]
  },
  {
   "cell_type": "markdown",
   "metadata": {},
   "source": [
    "## Descreption: \n",
    "### A real estate agency wanted to reduce the negotiation time and improve closure for buyers and sellers of homes by ensuring that both sides were advised well on the potential sale/purchase price of the home. To that end the agency wanted to predict a transaction price for all the houses in its market which would be as close as possible to a price where the transaction would take place. Data regarding all possible variables and qualities of over 10,000 houses sold in the past was collected and analyzed."
   ]
  },
  {
   "cell_type": "markdown",
   "metadata": {},
   "source": [
    "### Summary:\n",
    "\n",
    "In data provided, Price is the dependant (target) variable. <br>\n",
    "\n",
    "Independant ariables are, Suburb, Address, Rooms, Type(Type of house), Method (Method of sell), SellerG (Seller Name), Distance (Distance of Council Area from city center), Postcode (Postal code), Bedroom2 (Number of Bed room), Bathroom (Number of Bathroom), Car (Number of Car parking), Landsize (Landsize of house), BuildingArea(Bulding Area of house), YearBuilt, CouuncilArea. <br>\n",
    "\n",
    "We can brodly devide Independant variable in three groups.<br>\n",
    "**Location** : Suburb, Adress, Postcode, Distance, CouncilArea<br>\n",
    "**House Attributes** : Rooms, Type, Bedroom2, Bathroom, Car, Landsize, BuildingArea, YearBuilt<br>\n",
    "**Sell Attribute** : Method, SellerG <br>\n",
    "\n",
    "\n",
    "### **Solutioning : **\n",
    "\n",
    "It's a linear regresion proble. I have used 'glmnet' package for Lasso, Ridge and Elastic net.\n",
    "\n",
    "I have used some cetegorical variable as is, like Suburb and Postcode, although I could have created groups within each of these variable and could have reduced the classes in ceach variable. But for this project I have choose to keep it as is, (the behind this is, I have used sparse matrix, which is compatable with glmnet package, and sparse matrix reduces the size of data set by eleminating zeroes. My data set size gotredused to 10% using sparse matrix.)\n",
    "\n",
    "### Resultes :\n",
    "I have got Root mean squre error of *333,903.12*\n"
   ]
  },
  {
   "cell_type": "code",
   "execution_count": 151,
   "metadata": {},
   "outputs": [],
   "source": [
    "library(ggplot2)\n",
    "library(dplyr)\n",
    "library(tidyr)\n",
    "library(dumm)\n",
    "library(glmnet)\n",
    "library(Matrix)"
   ]
  },
  {
   "cell_type": "code",
   "execution_count": 91,
   "metadata": {
    "collapsed": true
   },
   "outputs": [],
   "source": [
    "setwd(\"H:\\\\softwares\\\\Data Analytics_Darshan\\\\2. R.Introduction\\\\Project\\\\Project 1 Real Estate\\\\P1_Real Estate\")"
   ]
  },
  {
   "cell_type": "code",
   "execution_count": 126,
   "metadata": {
    "collapsed": true
   },
   "outputs": [],
   "source": [
    "house_train=read.csv(\"housing_train.csv\",stringsAsFactors = F,na.strings = c(\"\",\"NA\",\"unknown\"))\n",
    "house_test=read.csv(\"housing_test.csv\",stringsAsFactors = F,na.strings = c(\"\",\"NA\",\"unknown\"))"
   ]
  },
  {
   "cell_type": "code",
   "execution_count": 127,
   "metadata": {
    "scrolled": true
   },
   "outputs": [
    {
     "name": "stdout",
     "output_type": "stream",
     "text": [
      "'data.frame':\t7536 obs. of  16 variables:\n",
      " $ Suburb      : chr  \"Brunswick\" \"Reservoir\" \"Newport\" \"Brighton East\" ...\n",
      " $ Address     : chr  \"52 Evans St\" \"85 Radford Rd\" \"99 Anderson St\" \"4/377 South Rd\" ...\n",
      " $ Rooms       : int  3 5 3 2 5 3 3 3 4 2 ...\n",
      " $ Type        : chr  \"h\" \"h\" \"h\" \"u\" ...\n",
      " $ Price       : int  1650000 791000 785000 755000 2500000 3020000 780000 2200000 760000 750000 ...\n",
      " $ Method      : chr  \"S\" \"S\" \"S\" \"SP\" ...\n",
      " $ SellerG     : chr  \"Nelson\" \"Ray\" \"RT\" \"Buxton\" ...\n",
      " $ Distance    : num  5.2 11.2 8.4 10.7 7.5 7.5 13.9 11.2 12.8 11.8 ...\n",
      " $ Postcode    : int  3056 3073 3015 3187 3123 3123 3165 3127 3033 3127 ...\n",
      " $ Bedroom2    : int  3 4 3 NA 5 3 3 3 NA 2 ...\n",
      " $ Bathroom    : int  1 3 1 NA 3 2 1 2 NA 2 ...\n",
      " $ Car         : int  2 1 1 NA 3 2 1 4 NA 2 ...\n",
      " $ Landsize    : int  495 961 185 NA 757 832 710 816 NA 0 ...\n",
      " $ BuildingArea: int  141 NA NA NA 240 NA NA NA NA 80 ...\n",
      " $ YearBuilt   : int  1920 NA NA NA 1925 NA 1966 NA NA 2003 ...\n",
      " $ CouncilArea : chr  \"Moreland\" \"Darebin\" \"Hobsons Bay\" NA ...\n"
     ]
    }
   ],
   "source": [
    "str(house_train)"
   ]
  },
  {
   "cell_type": "code",
   "execution_count": 128,
   "metadata": {
    "scrolled": true
   },
   "outputs": [
    {
     "name": "stdout",
     "output_type": "stream",
     "text": [
      "'data.frame':\t1885 obs. of  15 variables:\n",
      " $ Suburb      : chr  \"Abbotsford\" \"Abbotsford\" \"Abbotsford\" \"Abbotsford\" ...\n",
      " $ Address     : chr  \"6/241 Nicholson St\" \"403/609 Victoria St\" \"106/119 Turner St\" \"22 Park St\" ...\n",
      " $ Rooms       : int  1 2 1 4 3 3 3 1 1 2 ...\n",
      " $ Type        : chr  \"u\" \"u\" \"u\" \"h\" ...\n",
      " $ Method      : chr  \"S\" \"S\" \"SP\" \"S\" ...\n",
      " $ SellerG     : chr  \"Biggin\" \"Dingle\" \"Purplebricks\" \"Biggin\" ...\n",
      " $ Distance    : num  2.5 2.5 2.5 2.5 2.5 2.5 2.5 2.5 2.5 2.5 ...\n",
      " $ Postcode    : int  3067 3067 3067 3067 3067 3067 3067 3067 3067 3067 ...\n",
      " $ Bedroom2    : int  1 NA NA NA 2 3 3 NA 1 2 ...\n",
      " $ Bathroom    : int  1 NA NA NA 1 2 2 NA 1 2 ...\n",
      " $ Car         : int  1 NA NA NA 1 2 2 NA 1 2 ...\n",
      " $ Landsize    : int  0 NA NA NA 138 0 4290 NA 0 98 ...\n",
      " $ BuildingArea: int  NA NA NA NA 105 NA 27 NA NA 128 ...\n",
      " $ YearBuilt   : int  NA NA NA NA 1890 2010 NA NA NA 1920 ...\n",
      " $ CouncilArea : chr  \"Yarra\" NA NA NA ...\n"
     ]
    }
   ],
   "source": [
    "str(house_test)"
   ]
  },
  {
   "cell_type": "markdown",
   "metadata": {},
   "source": [
    "### =========================================================================================="
   ]
  },
  {
   "cell_type": "markdown",
   "metadata": {},
   "source": [
    "##  <font color=green>Data Preparation</font>  "
   ]
  },
  {
   "cell_type": "markdown",
   "metadata": {},
   "source": [
    "### Let's combine train and test data"
   ]
  },
  {
   "cell_type": "code",
   "execution_count": 129,
   "metadata": {
    "scrolled": true
   },
   "outputs": [
    {
     "name": "stdout",
     "output_type": "stream",
     "text": [
      "'data.frame':\t9421 obs. of  17 variables:\n",
      " $ Suburb      : chr  \"Brunswick\" \"Reservoir\" \"Newport\" \"Brighton East\" ...\n",
      " $ Address     : chr  \"52 Evans St\" \"85 Radford Rd\" \"99 Anderson St\" \"4/377 South Rd\" ...\n",
      " $ Rooms       : int  3 5 3 2 5 3 3 3 4 2 ...\n",
      " $ Type        : chr  \"h\" \"h\" \"h\" \"u\" ...\n",
      " $ Method      : chr  \"S\" \"S\" \"S\" \"SP\" ...\n",
      " $ SellerG     : chr  \"Nelson\" \"Ray\" \"RT\" \"Buxton\" ...\n",
      " $ Distance    : num  5.2 11.2 8.4 10.7 7.5 7.5 13.9 11.2 12.8 11.8 ...\n",
      " $ Postcode    : int  3056 3073 3015 3187 3123 3123 3165 3127 3033 3127 ...\n",
      " $ Bedroom2    : int  3 4 3 NA 5 3 3 3 NA 2 ...\n",
      " $ Bathroom    : int  1 3 1 NA 3 2 1 2 NA 2 ...\n",
      " $ Car         : int  2 1 1 NA 3 2 1 4 NA 2 ...\n",
      " $ Landsize    : int  495 961 185 NA 757 832 710 816 NA 0 ...\n",
      " $ BuildingArea: int  141 NA NA NA 240 NA NA NA NA 80 ...\n",
      " $ YearBuilt   : int  1920 NA NA NA 1925 NA 1966 NA NA 2003 ...\n",
      " $ CouncilArea : chr  \"Moreland\" \"Darebin\" \"Hobsons Bay\" NA ...\n",
      " $ Price       : num  1650000 791000 785000 755000 2500000 3020000 780000 2200000 760000 750000 ...\n",
      " $ is_train    : num  1 1 1 1 1 1 1 1 1 1 ...\n"
     ]
    }
   ],
   "source": [
    "house_train$Price1=house_train$Price\n",
    "house_train$Price=NULL\n",
    "names(house_train)[16]=\"Price\"\n",
    "house_train$is_train=1\n",
    "\n",
    "house_test$Price=0\n",
    "house_test$is_train=0\n",
    "\n",
    "\n",
    "house=rbind(house_train,house_test)\n",
    "str(house)"
   ]
  },
  {
   "cell_type": "code",
   "execution_count": 130,
   "metadata": {
    "scrolled": true
   },
   "outputs": [
    {
     "data": {
      "text/html": [
       "'character'"
      ],
      "text/latex": [
       "'character'"
      ],
      "text/markdown": [
       "'character'"
      ],
      "text/plain": [
       "[1] \"character\""
      ]
     },
     "metadata": {},
     "output_type": "display_data"
    },
    {
     "data": {
      "text/html": [
       "<dl class=dl-horizontal>\n",
       "\t<dt>52 Evans St</dt>\n",
       "\t\t<dd>'St'</dd>\n",
       "\t<dt>85 Radford Rd</dt>\n",
       "\t\t<dd>'Rd'</dd>\n",
       "\t<dt>99 Anderson St</dt>\n",
       "\t\t<dd>'St'</dd>\n",
       "\t<dt>4/377 South Rd</dt>\n",
       "\t\t<dd>'Rd'</dd>\n",
       "\t<dt>3 Jaques St</dt>\n",
       "\t\t<dd>'St'</dd>\n",
       "\t<dt>75 Leura Gr</dt>\n",
       "\t\t<dd>'Gr'</dd>\n",
       "\t<dt>4 Adrian St</dt>\n",
       "\t\t<dd>'St'</dd>\n",
       "\t<dt>47 Suffolk Rd</dt>\n",
       "\t\t<dd>'Rd'</dd>\n",
       "\t<dt>37a Heather Av</dt>\n",
       "\t\t<dd>'Av'</dd>\n",
       "\t<dt>50/781 Whitehorse Rd</dt>\n",
       "\t\t<dd>'Rd'</dd>\n",
       "</dl>\n"
      ],
      "text/latex": [
       "\\begin{description*}\n",
       "\\item[52 Evans St] 'St'\n",
       "\\item[85 Radford Rd] 'Rd'\n",
       "\\item[99 Anderson St] 'St'\n",
       "\\item[4/377 South Rd] 'Rd'\n",
       "\\item[3 Jaques St] 'St'\n",
       "\\item[75 Leura Gr] 'Gr'\n",
       "\\item[4 Adrian St] 'St'\n",
       "\\item[47 Suffolk Rd] 'Rd'\n",
       "\\item[37a Heather Av] 'Av'\n",
       "\\item[50/781 Whitehorse Rd] 'Rd'\n",
       "\\end{description*}\n"
      ],
      "text/markdown": [
       "52 Evans St\n",
       ":   'St'85 Radford Rd\n",
       ":   'Rd'99 Anderson St\n",
       ":   'St'4/377 South Rd\n",
       ":   'Rd'3 Jaques St\n",
       ":   'St'75 Leura Gr\n",
       ":   'Gr'4 Adrian St\n",
       ":   'St'47 Suffolk Rd\n",
       ":   'Rd'37a Heather Av\n",
       ":   'Av'50/781 Whitehorse Rd\n",
       ":   'Rd'\n",
       "\n"
      ],
      "text/plain": [
       "         52 Evans St        85 Radford Rd       99 Anderson St \n",
       "                \"St\"                 \"Rd\"                 \"St\" \n",
       "      4/377 South Rd          3 Jaques St          75 Leura Gr \n",
       "                \"Rd\"                 \"St\"                 \"Gr\" \n",
       "         4 Adrian St        47 Suffolk Rd       37a Heather Av \n",
       "                \"St\"                 \"Rd\"                 \"Av\" \n",
       "50/781 Whitehorse Rd \n",
       "                \"Rd\" "
      ]
     },
     "metadata": {},
     "output_type": "display_data"
    }
   ],
   "source": [
    "a=sapply (house$Address, function(x) tail(strsplit(x,split=\" \")[[1]],1))\n",
    "class(a)\n",
    "head(a,10)"
   ]
  },
  {
   "cell_type": "markdown",
   "metadata": {},
   "source": [
    "### =========================================================================================="
   ]
  },
  {
   "cell_type": "markdown",
   "metadata": {},
   "source": [
    "###   Working with Adress Variable"
   ]
  },
  {
   "cell_type": "code",
   "execution_count": 131,
   "metadata": {},
   "outputs": [
    {
     "data": {
      "text/plain": [
       "a\n",
       "    Athol        Av    Avenue       Bnd Boulevard       Bvd       Cct       Cir \n",
       "        1       814        26         1         9        23         9         6 \n",
       "       Cl      Cove        Cr  Crescent    Crofts  Crossway        Ct        Dr \n",
       "       24         1       234         3         1         1       224       142 \n",
       "        E      East       Esp Esplanade   Fairway      Gdns     Glade       Gln \n",
       "        2         2         2         3         3         1         1         1 \n",
       "       Gr    Grange     Grove       Gwy   Highway       Hwy        La  Lairidge \n",
       "      189         1         3         1         1        11        45         1 \n",
       "     Mews        Mw         N      Nook       Nth    Parade       Pde        Pl \n",
       "        1         9         8         1         1         9       131        87 \n",
       "       Qd        Qy        Rd       Res        Ri     Righi        Rt         S \n",
       "        4         1      1894         1         4         3         1         4 \n",
       "       Sq        St    Strand    street       Tce  Victoria        Vs        Vw \n",
       "        5      5387         5         1        29         2         1         1 \n",
       "        W        Wk       Wky        Wy \n",
       "        2         8         1        34 "
      ]
     },
     "metadata": {},
     "output_type": "display_data"
    },
    {
     "data": {
      "text/html": [
       "0"
      ],
      "text/latex": [
       "0"
      ],
      "text/markdown": [
       "0"
      ],
      "text/plain": [
       "[1] 0"
      ]
     },
     "metadata": {},
     "output_type": "display_data"
    },
    {
     "data": {
      "text/plain": [
       "\n",
       "    Av     Cr     Ct     Dr     Gr others    Pde     Rd     St \n",
       "   814    234    224    142    189    406    131   1894   5387 "
      ]
     },
     "metadata": {},
     "output_type": "display_data"
    }
   ],
   "source": [
    "a=as.matrix(a)\n",
    "table(a)\n",
    "length(house$road %in% names(sort(table(a),decreasing = T))[1:8])\n",
    "\n",
    "house$road=(a)\n",
    "house$road=as.character(house$road)\n",
    "\n",
    "house$road[! house$road %in% names(sort(table(a),decreasing = T))[1:8]]=\"others\"\n",
    "table(house$road)"
   ]
  },
  {
   "cell_type": "code",
   "execution_count": 132,
   "metadata": {},
   "outputs": [
    {
     "data": {
      "text/plain": [
       "\n",
       "   0    1 \n",
       "6131 3290 "
      ]
     },
     "metadata": {},
     "output_type": "display_data"
    }
   ],
   "source": [
    "\n",
    "house$shouse= grepl(\"/\", house$Address)\n",
    "house$shouse=ifelse(house$shouse==\"TRUE\",1,0)\n",
    "\n",
    "\n",
    "table(house$shouse)\n",
    "house$Address=NULL"
   ]
  },
  {
   "cell_type": "markdown",
   "metadata": {},
   "source": [
    "### NA Removal"
   ]
  },
  {
   "cell_type": "code",
   "execution_count": 133,
   "metadata": {},
   "outputs": [
    {
     "data": {
      "text/plain": [
       "\n",
       "   0    1    2    3    4    5    6    7    8    9   20 \n",
       "  10  449 2422 3069 1206  253   23    5    2    3    1 "
      ]
     },
     "metadata": {},
     "output_type": "display_data"
    },
    {
     "data": {
      "text/plain": [
       "\n",
       "   0    1    2    3    4    5    6    7    8 \n",
       "  26 4337 2513  488   57   15    4    2    1 "
      ]
     },
     "metadata": {},
     "output_type": "display_data"
    },
    {
     "data": {
      "text/plain": [
       "\n",
       "   0    1    2    3    4    5    6    7    8 \n",
       " 577 3443 2764  354  248   25   22    5    5 "
      ]
     },
     "metadata": {},
     "output_type": "display_data"
    }
   ],
   "source": [
    "table(house$Bedroom2)\n",
    "house[is.na(house$Bedroom2),c(\"Bedroom2\")]=3\n",
    "\n",
    "\n",
    "table(house$Bathroom)\n",
    "house[is.na(house$Bathroom),c(\"Bathroom\")]=1\n",
    "\n",
    "\n",
    "table(house$Car)\n",
    "house[is.na(house$Car),c(\"Car\")]=1"
   ]
  },
  {
   "cell_type": "code",
   "execution_count": 135,
   "metadata": {},
   "outputs": [
    {
     "data": {
      "image/png": "[encoded data removed]",
      "text/plain": [
       "Plot with title \"Histogram of house$Landsize\""
      ]
     },
     "metadata": {},
     "output_type": "display_data"
    }
   ],
   "source": [
    "house$Landsize[is.na(house$Landsize)]=median(house$Landsize,na.rm = T)\n",
    "house$Landsize=log(house$Landsize+1)\n",
    "hist(house$Landsize)"
   ]
  },
  {
   "cell_type": "code",
   "execution_count": 136,
   "metadata": {},
   "outputs": [
    {
     "data": {
      "image/png": "[encoded data removed]",
      "text/plain": [
       "Plot with title \"Histogram of house$BuildingArea\""
      ]
     },
     "metadata": {},
     "output_type": "display_data"
    }
   ],
   "source": [
    "house$BuildingArea[is.na(house$BuildingArea)]=median(house$BuildingArea,na.rm = T)\n",
    "house$BuildingArea=log(house$BuildingArea+1)\n",
    "hist(house$BuildingArea)"
   ]
  },
  {
   "cell_type": "code",
   "execution_count": 137,
   "metadata": {},
   "outputs": [
    {
     "data": {
      "text/plain": [
       "\n",
       "1970 1960 1950 1900 1930 1920 2000 1910 1890 1940 1980 2012 1975 2010 1965 2005 \n",
       " 515  402  365  240  193  187  177  169  162  150  128  107  102   98   96   92 \n",
       "2013 1990 1995 1925 2009 2011 1955 2007 2014 2006 2008 1880 2002 2004 1935 1915 \n",
       "  88   78   63   60   60   59   57   57   54   51   49   46   45   44   42   39 \n",
       "1998 2003 1997 2001 2016 2015 1985 1999 1945 1968 1996 1905 1994 1993 1966 1992 \n",
       "  38   35   34   34   33   32   31   27   18   18   17   15   15   14   12   12 \n",
       "1938 1978 1948 1972 1928 1969 1974 1958 1967 1973 1977 1988 1976 1986 1991 2017 \n",
       "  11   11   10   10    9    9    9    8    8    8    8    7    6    6    6    6 \n",
       "1885 1888 1912 1926 1927 1934 1963 1971 1850 1923 1939 1941 1943 1947 1953 1957 \n",
       "   5    5    5    5    5    5    5    5    4    4    4    4    4    4    4    4 \n",
       "1979 1983 1987 1924 1946 1949 1951 1961 1982 1989 1863 1886 1887 1895 1902 1903 \n",
       "   4    4    4    3    3    3    3    3    3    3    2    2    2    2    2    2 \n",
       "1904 1906 1908 1913 1917 1919 1929 1937 1952 1956 1962 1964 1830 1854 1856 1860 \n",
       "   2    2    2    2    2    2    2    2    2    2    2    2    1    1    1    1 \n",
       "1868 1870 1875 1877 1884 1889 1893 1894 1897 1898 1901 1907 1914 1916 1918 1922 \n",
       "   1    1    1    1    1    1    1    1    1    1    1    1    1    1    1    1 \n",
       "1932 1933 1942 1954 1959 1981 1984 2018 \n",
       "   1    1    1    1    1    1    1    1 "
      ]
     },
     "metadata": {},
     "output_type": "display_data"
    }
   ],
   "source": [
    "sort(table(house$YearBuilt),decreasing = T)\n",
    "house[is.na(house$YearBuilt),\"YearBuilt\"]=1970"
   ]
  },
  {
   "cell_type": "code",
   "execution_count": 138,
   "metadata": {},
   "outputs": [
    {
     "data": {
      "text/plain": [
       "\n",
       "   Boroondara      Moreland Moonee Valley       Darebin     Glen Eira \n",
       "          803           765           678           648           608 \n",
       "  Stonnington   Maribyrnong         Yarra  Port Phillip       Banyule \n",
       "          511           478           455           441           359 \n",
       "    Melbourne       Bayside   Hobsons Bay      Brimbank    Manningham \n",
       "          324           311           286           238           181 \n",
       "   Whitehorse        Monash      Kingston          Hume \n",
       "          139           132            65            14 "
      ]
     },
     "metadata": {},
     "output_type": "display_data"
    }
   ],
   "source": [
    "sort(table(house$CouncilArea),decreasing = T)\n",
    "house$CouncilArea[is.na(house$CouncilArea)]=\"Boroondara\""
   ]
  },
  {
   "cell_type": "code",
   "execution_count": 139,
   "metadata": {
    "collapsed": true
   },
   "outputs": [],
   "source": [
    "house$Suburb=gsub(\"[[:punct:]]\",\"\",house$Suburb)\n",
    "house$Suburb=gsub(\"[^[:alnum:]]\",\"\",house$Suburb)\n",
    "\n",
    "house$CouncilArea=gsub(\"[[:punct:]]\",\"\",house$CouncilArea)\n",
    "house$CouncilArea=gsub(\"[^[:alnum:]]\",\"\",house$CouncilArea)\n",
    "\n",
    "house$SellerG=gsub(\"[[:punct:]]\",\"\",house$SellerG)\n",
    "house$SellerG=gsub(\"[^[:alnum:]]\",\"\",house$SellerG)"
   ]
  },
  {
   "cell_type": "code",
   "execution_count": 144,
   "metadata": {},
   "outputs": [
    {
     "data": {
      "text/html": [
       "<ol class=list-inline>\n",
       "\t<li>9421</li>\n",
       "\t<li>425</li>\n",
       "</ol>\n"
      ],
      "text/latex": [
       "\\begin{enumerate*}\n",
       "\\item 9421\n",
       "\\item 425\n",
       "\\end{enumerate*}\n"
      ],
      "text/markdown": [
       "1. 9421\n",
       "2. 425\n",
       "\n",
       "\n"
      ],
      "text/plain": [
       "[1] 9421  425"
      ]
     },
     "metadata": {},
     "output_type": "display_data"
    }
   ],
   "source": [
    "b=house\n",
    "b$CouncilArea=NULL\n",
    "b$SellerG=NULL\n",
    "b=b %>% mutate(quality = BuildingArea/Rooms) \n",
    "b=dummy(b,c(\"YearBuilt\",\"Suburb\",\"Rooms\",\"Type\",\"Method\",\"Postcode\",\"Bedroom2\",\"Bathroom\",\"Car\",\"road\"),limit = 500,rm_original = T)\n",
    "dim(b)"
   ]
  },
  {
   "cell_type": "markdown",
   "metadata": {},
   "source": [
    "### Let's seperate train and test data"
   ]
  },
  {
   "cell_type": "code",
   "execution_count": 145,
   "metadata": {
    "collapsed": true
   },
   "outputs": [],
   "source": [
    "house_train=b[b$is_train==1,]\n",
    "house_train$is_train=NULL\n",
    "\n",
    "house_test=b[b$is_train==0,]\n",
    "house_test$is_train=NULL"
   ]
  },
  {
   "cell_type": "markdown",
   "metadata": {},
   "source": [
    "### Modeling"
   ]
  },
  {
   "cell_type": "code",
   "execution_count": 148,
   "metadata": {},
   "outputs": [
    {
     "data": {
      "text/html": [
       "<ol class=list-inline>\n",
       "\t<li>7536</li>\n",
       "\t<li>424</li>\n",
       "</ol>\n"
      ],
      "text/latex": [
       "\\begin{enumerate*}\n",
       "\\item 7536\n",
       "\\item 424\n",
       "\\end{enumerate*}\n"
      ],
      "text/markdown": [
       "1. 7536\n",
       "2. 424\n",
       "\n",
       "\n"
      ],
      "text/plain": [
       "[1] 7536  424"
      ]
     },
     "metadata": {},
     "output_type": "display_data"
    }
   ],
   "source": [
    "b_train=house_train\n",
    "dim(b_train)"
   ]
  },
  {
   "cell_type": "code",
   "execution_count": 149,
   "metadata": {
    "collapsed": true
   },
   "outputs": [],
   "source": [
    "b_train$Distance1=b_train$Distance^2\n",
    "b_train$Distance2=b_train$Distance^3\n",
    "b_train$Distance3=b_train$Distance^4\n",
    "b_train$Distance4=b_train$Distance^5\n",
    "b_train$Distance5=b_train$Distance^6\n",
    "\n",
    "\n",
    "b_train$Landsize1=b_train$Landsize^2\n",
    "b_train$Landsize2=b_train$Landsize^3\n",
    "b_train$Landsize3=b_train$Landsize^4\n",
    "b_train$Landsize4=b_train$Landsize^5\n",
    "b_train$Landsize5=b_train$Landsize^6\n",
    "\n",
    "b_train$BuildingArea1=b_train$BuildingArea^2\n",
    "b_train$BuildingArea2=b_train$BuildingArea^3\n",
    "b_train$BuildingArea3=b_train$BuildingArea^4\n",
    "b_train$BuildingArea4=b_train$BuildingArea^5\n",
    "b_train$BuildingArea5=b_train$BuildingArea^6"
   ]
  },
  {
   "cell_type": "code",
   "execution_count": 152,
   "metadata": {},
   "outputs": [
    {
     "data": {
      "text/html": [
       "<ol class=list-inline>\n",
       "\t<li>7536</li>\n",
       "\t<li>438</li>\n",
       "</ol>\n"
      ],
      "text/latex": [
       "\\begin{enumerate*}\n",
       "\\item 7536\n",
       "\\item 438\n",
       "\\end{enumerate*}\n"
      ],
      "text/markdown": [
       "1. 7536\n",
       "2. 438\n",
       "\n",
       "\n"
      ],
      "text/plain": [
       "[1] 7536  438"
      ]
     },
     "metadata": {},
     "output_type": "display_data"
    }
   ],
   "source": [
    "x.b_train=as.matrix(b_train[-4])\n",
    "y.b_train=as.matrix(b_train[4])\n",
    "\n",
    "\n",
    "dim(as.data.frame(x.b_train))"
   ]
  },
  {
   "cell_type": "code",
   "execution_count": 153,
   "metadata": {
    "collapsed": true
   },
   "outputs": [],
   "source": [
    "x.b_train=Matrix(x.b_train,sparse = T)\n",
    "\n",
    "y.b_train=log(y.b_train+1)"
   ]
  },
  {
   "cell_type": "code",
   "execution_count": 154,
   "metadata": {
    "collapsed": true
   },
   "outputs": [],
   "source": [
    "for (i in 0:10) {\n",
    "  assign(paste(\"fit\", i, sep=\"\"), cv.glmnet(x.b_train, y.b_train, type.measure=\"mse\", \n",
    "                                            alpha=i/10,family=\"gaussian\"))\n",
    "}"
   ]
  },
  {
   "cell_type": "code",
   "execution_count": 155,
   "metadata": {
    "collapsed": true
   },
   "outputs": [],
   "source": [
    "yhat0 <- predict(fit0, s=fit0$lambda.1se, newx=x.b_train)\n",
    "yhat1 <- predict(fit1, s=fit1$lambda.1se, newx=x.b_train)\n",
    "yhat2 <- predict(fit2, s=fit2$lambda.1se, newx=x.b_train)\n",
    "yhat3 <- predict(fit3, s=fit3$lambda.1se, newx=x.b_train)\n",
    "yhat4 <- predict(fit4, s=fit4$lambda.1se, newx=x.b_train)\n",
    "yhat5 <- predict(fit5, s=fit5$lambda.1se, newx=x.b_train)\n",
    "yhat6 <- predict(fit6, s=fit6$lambda.1se, newx=x.b_train)\n",
    "yhat7 <- predict(fit7, s=fit7$lambda.1se, newx=x.b_train)\n",
    "yhat8 <- predict(fit8, s=fit8$lambda.1se, newx=x.b_train)\n",
    "yhat9 <- predict(fit9, s=fit9$lambda.1se, newx=x.b_train)\n",
    "yhat10 <- predict(fit10, s=fit10$lambda.1se, newx=x.b_train)\n",
    "\n",
    "mse0 <- sqrt(mean((y.b_train - yhat0)^2))\n",
    "mse1 <- sqrt(mean((y.b_train - yhat1)^2))\n",
    "mse2 <- sqrt(mean((y.b_train - yhat2)^2))\n",
    "mse3 <- sqrt(mean((y.b_train - yhat3)^2))\n",
    "mse4 <- sqrt(mean((y.b_train - yhat4)^2))\n",
    "mse5 <- sqrt(mean((y.b_train - yhat5)^2))\n",
    "mse6 <- sqrt(mean((y.b_train - yhat6)^2))\n",
    "mse7 <- sqrt(mean((y.b_train - yhat7)^2))\n",
    "mse8 <- sqrt(mean((y.b_train - yhat8)^2))\n",
    "mse9 <- sqrt(mean((y.b_train - yhat9)^2))\n",
    "mse10 <- sqrt(mean((y.b_train - yhat10)^2))"
   ]
  },
  {
   "cell_type": "code",
   "execution_count": 156,
   "metadata": {},
   "outputs": [
    {
     "data": {
      "text/html": [
       "<ol class=list-inline>\n",
       "\t<li>0.225662714141337</li>\n",
       "\t<li>0.227410106333272</li>\n",
       "\t<li>0.227549219599396</li>\n",
       "\t<li>0.227310299276451</li>\n",
       "\t<li>0.228179435117281</li>\n",
       "\t<li>0.22809800074088</li>\n",
       "\t<li>0.228073579366243</li>\n",
       "\t<li>0.22632967577334</li>\n",
       "\t<li>0.228017523926304</li>\n",
       "\t<li>0.227079056378353</li>\n",
       "\t<li>0.226284102629434</li>\n",
       "</ol>\n"
      ],
      "text/latex": [
       "\\begin{enumerate*}\n",
       "\\item 0.225662714141337\n",
       "\\item 0.227410106333272\n",
       "\\item 0.227549219599396\n",
       "\\item 0.227310299276451\n",
       "\\item 0.228179435117281\n",
       "\\item 0.22809800074088\n",
       "\\item 0.228073579366243\n",
       "\\item 0.22632967577334\n",
       "\\item 0.228017523926304\n",
       "\\item 0.227079056378353\n",
       "\\item 0.226284102629434\n",
       "\\end{enumerate*}\n"
      ],
      "text/markdown": [
       "1. 0.225662714141337\n",
       "2. 0.227410106333272\n",
       "3. 0.227549219599396\n",
       "4. 0.227310299276451\n",
       "5. 0.228179435117281\n",
       "6. 0.22809800074088\n",
       "7. 0.228073579366243\n",
       "8. 0.22632967577334\n",
       "9. 0.228017523926304\n",
       "10. 0.227079056378353\n",
       "11. 0.226284102629434\n",
       "\n",
       "\n"
      ],
      "text/plain": [
       " [1] 0.2256627 0.2274101 0.2275492 0.2273103 0.2281794 0.2280980 0.2280736\n",
       " [8] 0.2263297 0.2280175 0.2270791 0.2262841"
      ]
     },
     "metadata": {},
     "output_type": "display_data"
    }
   ],
   "source": [
    "mse=c(mse0,mse1,mse2,mse3,mse4,mse5,mse6,mse7,mse8,mse9,mse10)\n",
    "mse"
   ]
  },
  {
   "cell_type": "code",
   "execution_count": 174,
   "metadata": {},
   "outputs": [
    {
     "data": {
      "text/html": [
       "333903.117493706"
      ],
      "text/latex": [
       "333903.117493706"
      ],
      "text/markdown": [
       "333903.117493706"
      ],
      "text/plain": [
       "[1] 333903.1"
      ]
     },
     "metadata": {},
     "output_type": "display_data"
    },
    {
     "name": "stderr",
     "output_type": "stream",
     "text": [
      "`geom_smooth()` using method = 'gam'\n"
     ]
    },
    {
     "data": {},
     "metadata": {},
     "output_type": "display_data"
    },
    {
     "data": {
      "image/png": "[encoded data removed]",
      "text/plain": [
       "plot without title"
      ]
     },
     "metadata": {},
     "output_type": "display_data"
    }
   ],
   "source": [
    "sqrt(mean((exp(c(yhat0)) - exp(c(y.b_train)))^2))\n",
    "\n",
    "df=data.frame(Prediction=exp(c(yhat0)), Actual=exp(c(y.b_train)))\n",
    "ggplot(df,aes(Actual,Prediction))+geom_point()+geom_smooth(method = \"lm\")+geom_smooth(method = \"lm\")+\n",
    "geom_smooth(aes(color=\"red\"))\n"
   ]
  }
 ],
 "metadata": {
  "kernelspec": {
   "display_name": "R",
   "language": "R",
   "name": "ir"
  },
  "language_info": {
   "codemirror_mode": "r",
   "file_extension": ".r",
   "mimetype": "text/x-r-source",
   "name": "R",
   "pygments_lexer": "r",
   "version": "3.4.1"
  }
 },
 "nbformat": 4,
 "nbformat_minor": 2
}
